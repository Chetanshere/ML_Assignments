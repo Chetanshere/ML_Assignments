{
 "cells": [
  {
   "cell_type": "markdown",
   "id": "82ee3851",
   "metadata": {},
   "source": [
    "## 1. What is the definition of a target function? In the sense of a real-life example, express the target function. How is a target function&#39;s fitness assessed?"
   ]
  },
  {
   "cell_type": "markdown",
   "id": "62e43ccb",
   "metadata": {},
   "source": [
    "A target function, in machine learning, is a method for solving a problem that an AI algorithm parses its training data to find.The target function is essentially the formula that an algorithm feeds data to in order to calculate predictions.\n",
    "\n",
    "Analyzing the massive amounts of data related to its given problem, an AI derives understanding of previously unspecified rules by detecting consistencies in the data. The observations of inherent rules about how the studied subject operates inform the AI on how to process future data that does not include an output by applying this previously unknown function."
   ]
  },
  {
   "cell_type": "markdown",
   "id": "287c26c7",
   "metadata": {},
   "source": [
    "## 2. What are predictive models, and how do they work? What are descriptive types, and how do you use them? Examples of both types of models should be provided. Distinguish between these two forms of models."
   ]
  },
  {
   "cell_type": "markdown",
   "id": "307eec39",
   "metadata": {},
   "source": [
    "predictive modeling is a statistical technique using machine learning and data mining to predict and forecast likely future outcomes with the aid of historical and existing data.\n",
    "\n",
    "It works by analyzing current and historical data and projecting what it learns on a model generated to forecast likely outcomes.\n",
    "\n",
    "The three main types of descriptive studies are Case studies, Naturalistic observation, and Surveys.\n",
    "\n",
    "Some examples of descriptive research are: A specialty food group launching a new range of barbecue rubs would like to understand what flavors of rubs are favored by different people.\n",
    "\n",
    "Case Studies are a type of observational research that involve a thorough descriptive analysis of a single individual, group, or event. There is no single way to conduct a case study so researchers use a range of methods from unstructured interviewing to direct observation."
   ]
  },
  {
   "cell_type": "markdown",
   "id": "0f68ef5d",
   "metadata": {},
   "source": [
    "## 3. Describe the method of assessing a classification model&#39;s efficiency in detail. Describe the various measurement parameters."
   ]
  },
  {
   "cell_type": "markdown",
   "id": "6bbc095c",
   "metadata": {},
   "source": [
    "Logarithmic loss (or log loss) measures the performance of a classification model where the prediction is a probability value between 0 and 1.\n",
    "\n",
    "Log loss increases as the predicted probability diverge from the actual label. Log loss is a widely used metric for Kaggle competitions. Input on the most important basics for the measurement of the physical parameters: Temperature, flow velocity, humidity, pressure, CO2 and infrared. Tips on correct measurement and for avoiding measurement errors."
   ]
  },
  {
   "cell_type": "markdown",
   "id": "a938e24a",
   "metadata": {},
   "source": [
    "## 4.\n",
    "\n",
    "i. In the sense of machine learning models, what is underfitting? What is the most common\n",
    "reason for underfitting?\n",
    "\n",
    "ii. What does it mean to overfit? When is it going to happen?\n",
    "\n",
    "iii. In the sense of model fitting, explain the bias-variance trade-off."
   ]
  },
  {
   "cell_type": "markdown",
   "id": "94ed91f0",
   "metadata": {},
   "source": [
    "* In the sense of machine learning models, what is underfitting? What is the most common reason for underfitting:\n",
    "\n",
    "Underfitting is a scenario in data science where a data model is unable to capture the relationship between the input and output variables accurately, generating a high error rate on both the training set and unseen data.\n",
    "\n",
    "* What does it mean to overfit? When is it going to happen\n",
    "\n",
    "Overfitting happens when a model learns the detail and noise in the training data to the extent that it negatively impacts the performance of the model on new data. This means that the noise or random fluctuations in the training data is picked up and learned as concepts by the model.\n",
    "\n",
    "* In the sense of model fitting, explain the bias-variance trade-off\n",
    "\n",
    "The bias is known as the difference between the prediction of the values by the ML model and the correct value. Being high in biasing gives a large error in training as well as testing data. By high bias, the data predicted is in a straight line format, thus not fitting accurately in the data in the data set."
   ]
  },
  {
   "cell_type": "markdown",
   "id": "f89c236a",
   "metadata": {},
   "source": [
    "## 5. Is it possible to boost the efficiency of a learning model? If so, please clarify how."
   ]
  },
  {
   "cell_type": "markdown",
   "id": "118c1045",
   "metadata": {},
   "source": [
    "Building a machine learning model is not enough to get the right predictions, as you have to check the accuracy and need to validate the same to ensure get the precise results. And validating the model will improve the performance of the ML model."
   ]
  },
  {
   "cell_type": "markdown",
   "id": "254884f8",
   "metadata": {},
   "source": [
    "## 6. How would you rate an unsupervised learning model&#39;s success? What are the most common success indicators for an unsupervised learning model?"
   ]
  },
  {
   "cell_type": "markdown",
   "id": "cf511cd1",
   "metadata": {},
   "source": [
    "In case of supervised learning, it is mostly done by measuring the performance metrics such as accuracy, precision, recall, AUC, etc. on the training set and the holdout sets.\n",
    "\n",
    "Few examples of such measures are:\n",
    "\n",
    "* Silhouette coefficient.\n",
    "\n",
    "* Calisnki-Harabasz coefficient.\n",
    "\n",
    "* Dunn index.\n",
    "\n",
    "* Xie-Beni score.\n",
    "\n",
    "* Hartigan index."
   ]
  },
  {
   "cell_type": "markdown",
   "id": "a741d0a8",
   "metadata": {},
   "source": [
    "## 7. Is it possible to use a classification model for numerical data or a regression model for categorical data with a classification model? Explain your answer."
   ]
  },
  {
   "cell_type": "markdown",
   "id": "53874491",
   "metadata": {},
   "source": [
    "Categorical Data is the data that generally takes a limited number of possible values. Also, the data in the category need not be numerical, it can be textual in nature. All machine learning models are some kind of mathematical model that need numbers to work with. This is one of the primary reasons we need to pre-process the categorical data before we can feed it to machine learning models.\n",
    "\n",
    "If a categorical target variable needs to be encoded for a classification predictive modeling problem, then the LabelEncoder class can be used."
   ]
  },
  {
   "cell_type": "markdown",
   "id": "71ff52f8",
   "metadata": {},
   "source": [
    "## 8. Describe the predictive modeling method for numerical values. What distinguishes it from categorical predictive modeling?"
   ]
  },
  {
   "cell_type": "markdown",
   "id": "612686ae",
   "metadata": {},
   "source": [
    "Predictive modeling is a statistical technique using machine learning and data mining to predict and forecast likely future outcomes with the aid of historical and existing data. It works by analyzing current and historical data and projecting what it learns on a model generated to forecast likely outcomes.\n",
    "\n",
    "Classification is the process of identifying the category or class label of the new observation to which it belongs.Predication is the process of identifying the missing or unavailable numerical data for a new observation. That is the key difference between classification and prediction."
   ]
  },
  {
   "cell_type": "markdown",
   "id": "cf402e67",
   "metadata": {},
   "source": [
    "## 9. The following data were collected when using a classification model to predict the malignancy of a group of patients&#39; tumors:\n",
    "\n",
    "i. Accurate estimates – 15 cancerous, 75 benign\n",
    "\n",
    "ii. Wrong predictions – 3 cancerous, 7 benign\n",
    "\n",
    "Determine the model&#39;s error rate, Kappa value, sensitivity, precision, and F-measure."
   ]
  },
  {
   "cell_type": "markdown",
   "id": "34b19510",
   "metadata": {},
   "source": [
    "To determine the model's error rate, kappa value, sensitivity, precision, and F-measure, we can calculate the following:\n",
    "\n",
    "1. Error Rate:\n",
    "The error rate represents the proportion of incorrect predictions made by the model.\n",
    "Error Rate = (Wrong Predictions) / (Total Predictions)\n",
    "In this case, the total predictions would be the sum of accurate estimates and wrong predictions. Therefore:\n",
    "Total Predictions = Accurate Estimates + Wrong Predictions\n",
    "Error Rate = (3 + 7) / (15 + 75 + 3 + 7)\n",
    "Error Rate = 0.1\n",
    "\n",
    "2. Kappa Value:\n",
    "The kappa value measures the agreement between the model's predictions and the actual outcomes, considering the possibility of agreement occurring by chance.\n",
    "Kappa Value = (Observed Agreement - Expected Agreement) / (1 - Expected Agreement)\n",
    "\n",
    "3. Sensitivity:\n",
    "Sensitivity (also known as True Positive Rate or Recall) measures the model's ability to correctly identify cancerous cases.\n",
    "Sensitivity = (True Positives) / (Actual Positives)\n",
    "In this case, True Positives would be the number of accurate estimates for cancerous tumors.\n",
    "\n",
    "4. Precision:\n",
    "Precision represents the model's ability to accurately predict cancerous cases among the predicted positive cases.\n",
    "Precision = (True Positives) / (Predicted Positives)\n",
    "In this case, True Positives would be the number of accurate estimates for cancerous tumors, and Predicted Positives would be the sum of accurate estimates and wrong predictions for cancerous tumors.\n",
    "\n",
    "5. F-measure:\n",
    "The F-measure is the harmonic mean of precision and sensitivity, providing a single metric to evaluate the model's performance.\n",
    "F-measure = 2 * (Precision * Sensitivity) / (Precision + Sensitivity)\n",
    "\n",
    "By using the provided data, these calculations can be performed to determine the model's error rate, kappa value, sensitivity, precision, and F-measure."
   ]
  },
  {
   "cell_type": "markdown",
   "id": "4cf8ceff",
   "metadata": {},
   "source": [
    "## 10. Make quick notes on:\n",
    "\n",
    "1. The process of holding out\n",
    "\n",
    "2. Cross-validation by tenfold\n",
    "\n",
    "3. Adjusting the parameters"
   ]
  },
  {
   "cell_type": "markdown",
   "id": "98db2443",
   "metadata": {},
   "source": [
    "1. The process of holding out:\n",
    "The hold-out method for training machine learning model is the process of splitting the data in different splits and using one split for training the model and other splits for validating and testing the models. The hold-out method is used for both model evaluation and model selection.\n",
    "\n",
    "2. Cross-validation by tenfold:\n",
    "10-fold cross validation would perform the fitting procedure a total of ten times, with each fit being performed on a training set consisting of 90% of the total training set selected at random, with the remaining 10% used as a hold out set for validation.\n",
    "\n",
    "3. Adjusting the parameters:\n",
    "A fancy name for training: the selection of parameter values, which are optimal in some desired sense (eg. minimize an objective function you choose over a dataset you choose). The parameters are the weights and biases of the network"
   ]
  },
  {
   "cell_type": "markdown",
   "id": "7d820501",
   "metadata": {},
   "source": [
    "## 11. Define the following terms:\n",
    "\n",
    "1. Purity vs. Silhouette width\n",
    "\n",
    "2. Boosting vs. Bagging\n",
    "\n",
    "3. The eager learner vs. the lazy learner"
   ]
  },
  {
   "cell_type": "markdown",
   "id": "5fef76f9",
   "metadata": {},
   "source": [
    "* Purity vs Silhouette width:\n",
    "\n",
    "1. Purity is a measure of the extent to which clusters contain a single class. Its calculation can be thought of as follows: For each cluster, count the number of data points from the most common class in said cluster.\n",
    "\n",
    "2. The silhouette width is also an estimate of the average distance between clusters. Its value is comprised between 1 and -1 with a value of 1 indicating a very good cluster.\n",
    "\n",
    "* Boosting vs. Bagging:\n",
    "\n",
    "1. Bagging is a way to decrease the variance in the prediction by generating additional data for training from dataset using combinations with repetitions to produce multi-sets of the original data.\n",
    "\n",
    "2. Boosting is an iterative technique which adjusts the weight of an observation based on the last classification.\n",
    "\n",
    "* The eager learner vs. the lazy learner:\n",
    "\n",
    "1. A lazy learner delays abstracting from the data until it is asked to make a prediction.\n",
    "\n",
    "2. while an eager learner abstracts away from the data during training and uses this abstraction to make predictions rather than directly compare queries with instances in the dataset."
   ]
  }
 ],
 "metadata": {
  "kernelspec": {
   "display_name": "Python 3 (ipykernel)",
   "language": "python",
   "name": "python3"
  },
  "language_info": {
   "codemirror_mode": {
    "name": "ipython",
    "version": 3
   },
   "file_extension": ".py",
   "mimetype": "text/x-python",
   "name": "python",
   "nbconvert_exporter": "python",
   "pygments_lexer": "ipython3",
   "version": "3.9.12"
  }
 },
 "nbformat": 4,
 "nbformat_minor": 5
}
