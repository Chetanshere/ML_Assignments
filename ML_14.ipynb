{
 "cells": [
  {
   "cell_type": "markdown",
   "id": "0a25fade",
   "metadata": {},
   "source": [
    "## 1. What is the concept of supervised learning? What is the significance of the name?"
   ]
  },
  {
   "cell_type": "markdown",
   "id": "f55aa5d7",
   "metadata": {},
   "source": [
    " Supervised learning, also known as supervised machine learning, is a subcategory of machine learning and artificial intelligence. It is defined by its use of labeled datasets to train algorithms that to classify data or predict outcomes accurately."
   ]
  },
  {
   "cell_type": "markdown",
   "id": "ab34ff11",
   "metadata": {},
   "source": [
    "## 2. In the hospital sector, offer an example of supervised learning."
   ]
  },
  {
   "cell_type": "markdown",
   "id": "c133e176",
   "metadata": {},
   "source": [
    "Supervised learning uses a training set to teach models to yield the desired output. This training dataset includes inputs and correct outputs, which allow the model to learn over time. The algorithm measures its accuracy through the loss function, adjusting until the error has been sufficiently minimized."
   ]
  },
  {
   "cell_type": "markdown",
   "id": "c409f099",
   "metadata": {},
   "source": [
    "## 3. Give three supervised learning examples."
   ]
  },
  {
   "cell_type": "markdown",
   "id": "b7d1b48b",
   "metadata": {},
   "source": [
    "* Linear Regression.\n",
    "\n",
    "* Nearest Neighbor.\n",
    "\n",
    "* Gaussian Naive Bayes."
   ]
  },
  {
   "cell_type": "markdown",
   "id": "f8efdd41",
   "metadata": {},
   "source": [
    "## 4. In supervised learning, what are classification and regression?"
   ]
  },
  {
   "cell_type": "markdown",
   "id": "47c9ed96",
   "metadata": {},
   "source": [
    "Fundamentally, classification is about predicting a label and regression is about predicting a quantity. That classification is the problem of predicting a discrete class label output for an example. That regression is the problem of predicting a continuous quantity output for an example."
   ]
  },
  {
   "cell_type": "markdown",
   "id": "07aba4b9",
   "metadata": {},
   "source": [
    "## 5. Give some popular classification algorithms as examples."
   ]
  },
  {
   "cell_type": "markdown",
   "id": "d94a1de5",
   "metadata": {},
   "source": [
    "Popular algorithms that can be used for multi-class classification include:\n",
    "\n",
    "* k-Nearest Neighbors\n",
    "\n",
    "* Decision Trees.\n",
    "\n",
    "* Naive Bayes"
   ]
  },
  {
   "cell_type": "markdown",
   "id": "575c3056",
   "metadata": {},
   "source": [
    "## 6. Briefly describe the SVM model."
   ]
  },
  {
   "cell_type": "markdown",
   "id": "d09570a5",
   "metadata": {},
   "source": [
    "A support vector machine (SVM) is a supervised machine learning model that uses classification algorithms for two-group classification problems. After giving an SVM model sets of labeled training data for each category, they're able to categorize new text."
   ]
  },
  {
   "cell_type": "markdown",
   "id": "652e41e4",
   "metadata": {},
   "source": [
    "## 7. In SVM, what is the cost of misclassification?"
   ]
  },
  {
   "cell_type": "markdown",
   "id": "7c18f888",
   "metadata": {},
   "source": [
    "In cost-sensitive learning instead of each instance being either correctly or incorrectly classified, each class (or instance) is given a misclassification cost. Thus, instead of trying to optimize the accuracy, the problem is then to minimize the total misclassification cost."
   ]
  },
  {
   "cell_type": "markdown",
   "id": "dbffa8ce",
   "metadata": {},
   "source": [
    "## 8. In the SVM model, define Support Vectors."
   ]
  },
  {
   "cell_type": "markdown",
   "id": "6f4f0bc0",
   "metadata": {},
   "source": [
    "Support vectors are data points that are closer to the hyperplane and influence the position and orientation of the hyperplane. Using these support vectors, we maximize the margin of the classifier. Deleting the support vectors will change the position of the hyperplane. These are the points that help us build our SVM."
   ]
  },
  {
   "cell_type": "markdown",
   "id": "f625e013",
   "metadata": {},
   "source": [
    "## 9. In the SVM model, define the kernel."
   ]
  },
  {
   "cell_type": "markdown",
   "id": "08da704b",
   "metadata": {},
   "source": [
    "SVM algorithms use a set of mathematical functions that are defined as the kernel. The function of kernel is to take data as input and transform it into the required form. These functions can be different types. For example linear, nonlinear, polynomial, radial basis function (RBF), and sigmoid."
   ]
  },
  {
   "cell_type": "markdown",
   "id": "3eee11a3",
   "metadata": {},
   "source": [
    "## 10. What are the factors that influence SVM&#39;s effectiveness?"
   ]
  },
  {
   "cell_type": "markdown",
   "id": "959c2f13",
   "metadata": {},
   "source": [
    "SVM or Support Vector Machine is a linear model for classification and regression problems. It can solve linear and non-linear problems and work well for many practical problems. The idea of SVM is simple: The algorithm creates a line or a hyperplane which separates the data into classes."
   ]
  },
  {
   "cell_type": "markdown",
   "id": "663686f0",
   "metadata": {},
   "source": [
    "## 11. What are the benefits of using the SVM model?"
   ]
  },
  {
   "cell_type": "markdown",
   "id": "e52fc6f1",
   "metadata": {},
   "source": [
    "SVM works relatively well when there is a clear margin of separation between classes. SVM is more effective in high dimensional spaces. SVM is effective in cases where the number of dimensions is greater than the number of samples.SVM is relatively memory efficient."
   ]
  },
  {
   "cell_type": "markdown",
   "id": "586dec9f",
   "metadata": {},
   "source": [
    "## 12. What are the drawbacks of using the SVM model?"
   ]
  },
  {
   "cell_type": "markdown",
   "id": "777f08ea",
   "metadata": {},
   "source": [
    "SVM algorithm is not suitable for large data sets. SVM does not perform very well when the data set has more noise i.e. target classes are overlapping. In cases where the number of features for each data point exceeds the number of training data samples, the SVM will underperform."
   ]
  },
  {
   "cell_type": "markdown",
   "id": "58a3ee6d",
   "metadata": {},
   "source": [
    "## 13. Notes should be written on\n",
    "\n",
    "1. The kNN algorithm has a validation flaw.\n",
    "\n",
    "2. In the kNN algorithm, the k value is chosen.\n",
    "\n",
    "3. A decision tree with inductive bias"
   ]
  },
  {
   "cell_type": "markdown",
   "id": "346d0e12",
   "metadata": {},
   "source": [
    "* The kNN algorithm has a validation flaw.\n",
    "\n",
    "The relatively low accuracy of kNN is caused by several factors. One of them is that every characteristic of the method has the same result on calculating distance. The solution of this problem is to give weight to each data characteristic.\n",
    "\n",
    "* In the kNN algorithm, the k value is chosen.\n",
    "\n",
    "The optimal K value usually found is the square root of N, where N is the total number of samples. Use an error plot or accuracy plot to find the most favorable K value. KNN performs well with multi-label classes, but you must be aware of the outliers.\n",
    "\n",
    "* A decision tree with inductive bias\n",
    "\n",
    "Shorter trees are preferred over longer ones. Trees that place high information gain attributes close to the root are preferred over those that do not."
   ]
  },
  {
   "cell_type": "markdown",
   "id": "5e711c69",
   "metadata": {},
   "source": [
    "## 14. What are some of the benefits of the KNN algorithm?"
   ]
  },
  {
   "cell_type": "markdown",
   "id": "8270c777",
   "metadata": {},
   "source": [
    "Some Advantages of KNN are:\n",
    "\n",
    "* Quick calculation time.\n",
    "\n",
    "* Simple algorithm – to interpret.\n",
    "\n",
    "* Versatile – useful for regression and classification.\n",
    "\n",
    "* High accuracy – you do not need to compare with better-supervised learning models."
   ]
  },
  {
   "cell_type": "markdown",
   "id": "5763240f",
   "metadata": {},
   "source": [
    "## 15. What are some of the kNN algorithm&#39;s drawbacks?"
   ]
  },
  {
   "cell_type": "markdown",
   "id": "cf9f988d",
   "metadata": {},
   "source": [
    "Some Disadvantages of KNN are:\n",
    "\n",
    "Accuracy depends on the quality of the data.\n",
    "\n",
    "With large data, the prediction stage might be slow.\n",
    "\n",
    "Sensitive to the scale of the data and irrelevant features.\n",
    "\n",
    "Require high memory – need to store all of the training data.\n",
    "\n",
    "Given that it stores all of the training, it can be computationally expensive."
   ]
  },
  {
   "cell_type": "markdown",
   "id": "6c97193d",
   "metadata": {},
   "source": [
    "## 16. Explain the decision tree algorithm in a few words."
   ]
  },
  {
   "cell_type": "markdown",
   "id": "fa2bb16a",
   "metadata": {},
   "source": [
    "A decision tree is a graphical representation of all the possible solutions to a decision based on certain conditions. Tree models where the target variable can take a finite set of values are called classification trees and target variable can take continuous values (numbers) are called regression trees."
   ]
  },
  {
   "cell_type": "markdown",
   "id": "68f52e24",
   "metadata": {},
   "source": [
    "## 17. What is the difference between a node and a leaf in a decision tree?"
   ]
  },
  {
   "cell_type": "markdown",
   "id": "0e30b7a8",
   "metadata": {},
   "source": [
    "A decision tree is a flowchart-like structure in which each internal node represents a \"test\" on an attribute (e.g. whether a coin flip comes up heads or tails), each branch represents the outcome of the test, and each leaf node represents a class label (decision taken after computing all attributes)."
   ]
  },
  {
   "cell_type": "markdown",
   "id": "d37e7ece",
   "metadata": {},
   "source": [
    "## 18. What is a decision tree&#39;s entropy?"
   ]
  },
  {
   "cell_type": "markdown",
   "id": "0350b7c9",
   "metadata": {},
   "source": [
    "Entropy helps us to build an appropriate decision tree for selecting the best splitter. Entropy can be defined as a measure of the purity of the sub split. Entropy always lies between 0 to 1. The entropy of any split can be calculate by this formula."
   ]
  },
  {
   "cell_type": "markdown",
   "id": "4135c3d9",
   "metadata": {},
   "source": [
    "## 19. In a decision tree, define knowledge gain."
   ]
  },
  {
   "cell_type": "markdown",
   "id": "469a983f",
   "metadata": {},
   "source": [
    " Information gain is the reduction in entropy or surprise by transforming a dataset and is often used in training decision trees.Information gain is calculated by comparing the entropy of the dataset before and after a transformation."
   ]
  },
  {
   "cell_type": "markdown",
   "id": "be4b53fe",
   "metadata": {},
   "source": [
    "## 20. Choose three advantages of the decision tree approach and write them down."
   ]
  },
  {
   "cell_type": "markdown",
   "id": "2dfefbd1",
   "metadata": {},
   "source": [
    " Advantages of Decision Trees :\n",
    "\n",
    "1. Easy to read and interpret. One of the advantages of decision trees is that their outputs are easy to read and interpret without requiring statistical knowledge.\n",
    "2. Easy to prepare.\n",
    "3. Less data cleaning required."
   ]
  },
  {
   "cell_type": "markdown",
   "id": "d3a77f52",
   "metadata": {},
   "source": [
    "## 21. Make a list of three flaws in the decision tree process."
   ]
  },
  {
   "cell_type": "markdown",
   "id": "0cc79526",
   "metadata": {},
   "source": [
    "* Issues in Decision Tree Learning :\n",
    "\n",
    "1. Overfitting the data.\n",
    "2. Guarding against bad attribute choices.\n",
    "3. Handling continuous valued attributes.\n",
    "4. Handling missing attribute values.\n",
    "5. Handling attributes with differing costs."
   ]
  },
  {
   "cell_type": "markdown",
   "id": "467f00c1",
   "metadata": {},
   "source": [
    "## 22. Briefly describe the random forest model."
   ]
  },
  {
   "cell_type": "markdown",
   "id": "4d0b1b4a",
   "metadata": {},
   "source": [
    " The random forest is a classification algorithm consisting of many decisions trees. It uses bagging and feature randomness when building each individual tree to try to create an uncorrelated forest of trees whose prediction by committee is more accurate than that of any individual tree."
   ]
  }
 ],
 "metadata": {
  "kernelspec": {
   "display_name": "Python 3 (ipykernel)",
   "language": "python",
   "name": "python3"
  },
  "language_info": {
   "codemirror_mode": {
    "name": "ipython",
    "version": 3
   },
   "file_extension": ".py",
   "mimetype": "text/x-python",
   "name": "python",
   "nbconvert_exporter": "python",
   "pygments_lexer": "ipython3",
   "version": "3.9.12"
  }
 },
 "nbformat": 4,
 "nbformat_minor": 5
}
