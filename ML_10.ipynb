{
 "cells": [
  {
   "cell_type": "markdown",
   "id": "fb48bf06",
   "metadata": {},
   "source": [
    "## 1. Define the Bayesian interpretation of probability."
   ]
  },
  {
   "cell_type": "markdown",
   "id": "c1819398",
   "metadata": {},
   "source": [
    "Bayesian probability is the study of subjective probabilities or belief in an outcome, compared to the frequentist approach where probabilities are based purely on the past occurrence of the event. A Bayesian Network captures the joint probabilities of the events represented by the model."
   ]
  },
  {
   "cell_type": "markdown",
   "id": "1897cbc6",
   "metadata": {},
   "source": [
    "## 2. Define probability of a union of two events with equation."
   ]
  },
  {
   "cell_type": "markdown",
   "id": "42ea939b",
   "metadata": {},
   "source": [
    "The general probability addition rule for the union of two events states that P(A∪B)=P(A)+P(B)−P(A∩B), where A∩B is the intersection of the two sets."
   ]
  },
  {
   "cell_type": "markdown",
   "id": "1679260c",
   "metadata": {},
   "source": [
    "## 3. What is joint probability? What is its formula?"
   ]
  },
  {
   "cell_type": "markdown",
   "id": "b9b77ad9",
   "metadata": {},
   "source": [
    " Probabilities are combined using multiplication, therefore the joint probability of independent events is calculated as the probability of event A multiplied by the probability of event B. This can be stated formally as follows:\n",
    "\n",
    "Joint Probability: P(A and B) = P(A)*P(B)"
   ]
  },
  {
   "cell_type": "markdown",
   "id": "5312ee07",
   "metadata": {},
   "source": [
    "## 4. What is chain rule of probability?"
   ]
  },
  {
   "cell_type": "markdown",
   "id": "843edd9b",
   "metadata": {},
   "source": [
    " The chain rule, or general product rule, calculates any component of the joint distribution of a set of random variables using only conditional probabilities. This probability theory is used as a foundation for backpropagation and in creating Bayesian networks."
   ]
  },
  {
   "cell_type": "markdown",
   "id": "27c7dd92",
   "metadata": {},
   "source": [
    "## 5. What is conditional probability means? What is the formula of it?"
   ]
  },
  {
   "cell_type": "markdown",
   "id": "de238857",
   "metadata": {},
   "source": [
    " Conditional probability is defined as the likelihood of an event or outcome occurring, based on the occurrence of a previous event or outcome.\n",
    "\n",
    "Conditional probability is calculated by multiplying the probability of the preceding event by the updated probability of the succeeding, or conditional, event.\n",
    "\n",
    "Let's take a real-life example. Probability of selling a TV on a given normal day may be only 30%. But if we consider that given day is Diwali, then there are much more chances of selling a TV. The conditional Probability of selling a TV on a day given that Day is Diwali might be 70%."
   ]
  },
  {
   "cell_type": "markdown",
   "id": "1eed3740",
   "metadata": {},
   "source": [
    "## 6. What are continuous random variables?"
   ]
  },
  {
   "cell_type": "markdown",
   "id": "6a94c9e5",
   "metadata": {},
   "source": [
    " A continuous random variable X takes all values in a given interval of numbers. ▪ The probability distribution of a continuous random variable is shown by a density curve. ▪ The probability that X is between an interval of numbers is the area under the density curve between the interval endpoints."
   ]
  },
  {
   "cell_type": "markdown",
   "id": "5896f07f",
   "metadata": {},
   "source": [
    "## 7. What are Bernoulli distributions? What is the formula of it?"
   ]
  },
  {
   "cell_type": "markdown",
   "id": "1102bbd9",
   "metadata": {},
   "source": [
    " A Bernoulli distribution is a discrete probability distribution for a Bernoulli trial — a random experiment that has only two outcomes (usually called a Succes or a Failure).The expected value for a random variable, X.\n",
    "\n",
    "For a Bernoulli distribution is: E[X] = p.For example, if p = 0.04, then E[X] = 0.4"
   ]
  },
  {
   "cell_type": "markdown",
   "id": "862b9497",
   "metadata": {},
   "source": [
    "## 8. What is binomial distribution? What is the formula?"
   ]
  },
  {
   "cell_type": "markdown",
   "id": "ea833ce2",
   "metadata": {},
   "source": [
    "The binomial is a type of distribution that has two possible outcomes (the prefix “bi” means two, or twice).For example, a coin toss has only two possible outcomes: heads or tails and taking a test could have two possible outcomes: pass or fail.\n",
    "\n",
    "A Binomial Distribution shows either (S)uccess or (F)ailure."
   ]
  },
  {
   "cell_type": "markdown",
   "id": "f4aeeb74",
   "metadata": {},
   "source": [
    "## 9. What is Poisson distribution? What is the formula?"
   ]
  },
  {
   "cell_type": "markdown",
   "id": "45491b57",
   "metadata": {},
   "source": [
    "A Poisson distribution is defined as a discrete frequency distribution that gives the probability of the number of independent events that occur in the fixed time.\n",
    "\n",
    "In statistics, a Poisson distribution is a probability distribution that is used to show how many times an event is likely to occur over a specified period. ... The Poisson distribution is a discrete function, meaning that the variable can only take specific values in a (potentially infinite) list."
   ]
  },
  {
   "cell_type": "markdown",
   "id": "a56e6d1a",
   "metadata": {},
   "source": [
    "## 10. Define covariance."
   ]
  },
  {
   "cell_type": "markdown",
   "id": "fa51def1",
   "metadata": {},
   "source": [
    "Covariance is a measure of how much two random variables vary together. It's similar to variance, but where variance tells you how a single variable varies, co variance tells you how two variables vary together."
   ]
  },
  {
   "cell_type": "markdown",
   "id": "c203b8fb",
   "metadata": {},
   "source": [
    "## 11. Define correlation"
   ]
  },
  {
   "cell_type": "markdown",
   "id": "53e50027",
   "metadata": {},
   "source": [
    " Correlation explains how one or more variables are related to each other. These variables can be input data features which have been used to forecast our target variable. It's a bi-variate analysis measure which describes the association between different variables."
   ]
  },
  {
   "cell_type": "markdown",
   "id": "c03e5e2c",
   "metadata": {},
   "source": [
    "## 12. Define sampling with replacement. Give example."
   ]
  },
  {
   "cell_type": "markdown",
   "id": "a4c9367a",
   "metadata": {},
   "source": [
    "If you sample with replacement, you would choose one person's name, put that person's name back in the hat, and then choose another name. The possibilities for your two-name sample are: Sudhesh, Sudhesh. Sudhesh, Rahul."
   ]
  },
  {
   "cell_type": "markdown",
   "id": "94215f8f",
   "metadata": {},
   "source": [
    "## 13. What is sampling without replacement? Give example."
   ]
  },
  {
   "cell_type": "markdown",
   "id": "ed101c64",
   "metadata": {},
   "source": [
    " In sampling without replacement, each sample unit of the population has only one chance to be selected in the sample. For example, if one draws a simple random sample such that no unit occurs more than one time in the sample, the sample is drawn without replacement."
   ]
  },
  {
   "cell_type": "markdown",
   "id": "c126efe0",
   "metadata": {},
   "source": [
    "## 14. What is hypothesis? Give example."
   ]
  },
  {
   "cell_type": "markdown",
   "id": "725bfa20",
   "metadata": {},
   "source": [
    "A hypothesis (plural hypotheses) is a proposed explanation for a phenomenon. For a hypothesis to be a scientific hypothesis, the scientific method requires that one can test it. ... Even though the words \"hypothesis\" and \"theory\" are often used synonymously, a scientific hypothesis is not the same as a scientific theory.\n",
    "\n",
    "* Examples of hypothesis statements: If garlic repels fleas, then a dog that is given garlic every day will not get fleas. Bacterial growth may be affected by moisture levels in the air. If sugar causes cavities, then people who eat a lot of candy may be more prone to cavities."
   ]
  }
 ],
 "metadata": {
  "kernelspec": {
   "display_name": "Python 3 (ipykernel)",
   "language": "python",
   "name": "python3"
  },
  "language_info": {
   "codemirror_mode": {
    "name": "ipython",
    "version": 3
   },
   "file_extension": ".py",
   "mimetype": "text/x-python",
   "name": "python",
   "nbconvert_exporter": "python",
   "pygments_lexer": "ipython3",
   "version": "3.9.12"
  }
 },
 "nbformat": 4,
 "nbformat_minor": 5
}
