{
 "cells": [
  {
   "cell_type": "markdown",
   "id": "09f835eb",
   "metadata": {},
   "source": [
    "## 1. What exactly is a feature? Give an example to illustrate your point."
   ]
  },
  {
   "cell_type": "markdown",
   "id": "38d51237",
   "metadata": {},
   "source": [
    " Features are the basic building blocks of datasets. The quality of the features in your dataset has a major impact on the quality of the insights you will gain when you use that dataset for machine learning.\n",
    "\n",
    "Additionally, different business problems within the same industry do not necessarily require the same features, which is why it is important to have a strong understanding of the business goals of your data science project."
   ]
  },
  {
   "cell_type": "markdown",
   "id": "7e54775e",
   "metadata": {},
   "source": [
    "## 2. What are the various circumstances in which feature construction is required?"
   ]
  },
  {
   "cell_type": "markdown",
   "id": "961180d7",
   "metadata": {},
   "source": [
    " The features in your data will directly influence the predictive models you use and the results you can achieve. Your results are dependent on many inter-dependent properties. You need great features that describe the structures inherent in your data. Better features means flexibility."
   ]
  },
  {
   "cell_type": "markdown",
   "id": "e9136085",
   "metadata": {},
   "source": [
    "## 3. Describe how nominal variables are encoded."
   ]
  },
  {
   "cell_type": "markdown",
   "id": "7e567bc1",
   "metadata": {},
   "source": [
    " Nominal data is made of discrete values with no numerical relationship between the different categories — mean and median are meaningless. Animal species is one example. For example, pig is not higher than bird and lower than fish."
   ]
  },
  {
   "cell_type": "markdown",
   "id": "1776a306",
   "metadata": {},
   "source": [
    "## 4. Describe how numeric features are converted to categorical features."
   ]
  },
  {
   "cell_type": "markdown",
   "id": "ba3eec6c",
   "metadata": {},
   "source": [
    "Converting categorical features into numeric features using domain knowledge. For example, we are given a list of countries and say we know the distance to these countries from India then we can replace it with distance from India. So, every country can be represented as its distance from India."
   ]
  },
  {
   "cell_type": "markdown",
   "id": "5b0585f7",
   "metadata": {},
   "source": [
    "## 5. Describe the feature selection wrapper approach. State the advantages and disadvantages of this approach?"
   ]
  },
  {
   "cell_type": "markdown",
   "id": "e56b5cfb",
   "metadata": {},
   "source": [
    "Wrapper methods measure the “usefulness” of features based on the classifier performance. In contrast, the filter methods pick up the intrinsic properties of the features (i.e., the “relevance” of the features) measured via univariate statistics instead of cross-validation performance.\n",
    "\n",
    "The wrapper classification algorithms with joint dimensionality reduction and classification can also be used but these methods have high computation cost, lower discriminative power. Moreover, these methods depend on the efficient selection of classifiers for obtaining high accuracy"
   ]
  },
  {
   "cell_type": "markdown",
   "id": "89fee0d8",
   "metadata": {},
   "source": [
    "## 6. When is a feature considered irrelevant? What can be said to quantify it?"
   ]
  },
  {
   "cell_type": "markdown",
   "id": "ef8cb46d",
   "metadata": {},
   "source": [
    "Features are considered relevant if they are either strongly or weakly relevant, and are considered irrelevant otherwise.\n",
    "\n",
    "Irrelevant features can never contribute to prediction accuracy, by definition. Also to quantify it we need to first check the list of features, There are three types of feature selection:\n",
    "\n",
    "* Wrapper methods (forward, backward, and stepwise selection)\n",
    "\n",
    "* Filter methods (ANOVA, Pearson correlation, variance thresholding)\n",
    "\n",
    "* Embedded methods (Lasso, Ridge, Decision Tree)."
   ]
  },
  {
   "cell_type": "markdown",
   "id": "01284d93",
   "metadata": {},
   "source": [
    "## 7. When is a function considered redundant? What criteria are used to identify features that could be redundant?"
   ]
  },
  {
   "cell_type": "markdown",
   "id": "913b1c39",
   "metadata": {},
   "source": [
    "If two features {X1, X2} are highly correlated, then the two features become redundant features since they have same information in terms of correlation measure. In other words, the correlation measure provides statistical association between any given a pair of features.\n",
    "\n",
    "Minimum redundancy feature selection is an algorithm frequently used in a method to accurately identify characteristics of genes and phenotypes"
   ]
  },
  {
   "cell_type": "markdown",
   "id": "b6787b8a",
   "metadata": {},
   "source": [
    "## 8. What are the various distance measurements used to determine feature similarity?"
   ]
  },
  {
   "cell_type": "markdown",
   "id": "aa2a9474",
   "metadata": {},
   "source": [
    "* Hamming Distance.\n",
    "\n",
    "* Euclidean Distance\n",
    "\n",
    "* Manhattan Distance."
   ]
  },
  {
   "cell_type": "markdown",
   "id": "7630938c",
   "metadata": {},
   "source": [
    "## 9. State difference between Euclidean and Manhattan distances?"
   ]
  },
  {
   "cell_type": "markdown",
   "id": "74d55dc6",
   "metadata": {},
   "source": [
    "Euclidean distance is the length of the line segment joining a given pair of points in a grid/graph. This is unique & is the shortest path between the given pair of points.\n",
    "\n",
    "Manhattan distance is the sum of all horizontal and vertical segments joining a given pair points in a grid/graph."
   ]
  },
  {
   "cell_type": "markdown",
   "id": "5818e815",
   "metadata": {},
   "source": [
    "## 10. Distinguish between feature transformation and feature selection."
   ]
  },
  {
   "cell_type": "markdown",
   "id": "b4e57ec3",
   "metadata": {},
   "source": [
    "Feature selection is for filtering irrelevant or redundant features from your dataset. The key difference between feature selection and extraction is that feature selection keeps a subset of the original features while feature extraction creates brand new ones."
   ]
  },
  {
   "cell_type": "markdown",
   "id": "3cd3e808",
   "metadata": {},
   "source": [
    "## 11. Make brief notes on any two of the following:\n",
    "\n",
    "1. SVD (Standard Variable Diameter Diameter)\n",
    "\n",
    "2. Collection of features using a hybrid approach\n",
    "\n",
    "3. The width of the silhouette\n",
    "\n",
    "4. Receiver operating characteristic curve"
   ]
  },
  {
   "cell_type": "markdown",
   "id": "3cf6c0f2",
   "metadata": {},
   "source": [
    "1. The width of the silhouette:\n",
    "\n",
    "Silhouette width refers to the horizontal breadth or extent of a person's or object's outline. It is commonly used in fashion to describe the overall shape of clothing or garments when viewed from the front or back. The width of a silhouette can vary based on factors such as the cut, design, and fit of the clothing.\n",
    "A narrow silhouette suggests a slimmer and more streamlined appearance, often associated with fitted or tailored garments. This type of silhouette can create a sleek and elegant look.\n",
    "On the other hand, a wide silhouette indicates a broader or bulkier outline, which can be achieved through the use of loose or oversized clothing. This style choice can give a more relaxed and casual vibe.\n",
    "\n",
    "\n",
    "2. Receiver operating characteristic curve:\n",
    "\n",
    "The Receiver Operating Characteristic (ROC) curve is a graphical representation of the performance of a binary classification model. It is a widely used tool to assess the trade-off between the true positive rate (TPR) and the false positive rate (FPR) at different classification thresholds.\n",
    "The ROC curve plots the TPR (also known as sensitivity or recall) on the y-axis against the FPR (1 - specificity) on the x-axis. Each point on the curve represents a specific threshold for classifying the positive and negative instances.\n"
   ]
  }
 ],
 "metadata": {
  "kernelspec": {
   "display_name": "Python 3 (ipykernel)",
   "language": "python",
   "name": "python3"
  },
  "language_info": {
   "codemirror_mode": {
    "name": "ipython",
    "version": 3
   },
   "file_extension": ".py",
   "mimetype": "text/x-python",
   "name": "python",
   "nbconvert_exporter": "python",
   "pygments_lexer": "ipython3",
   "version": "3.9.12"
  }
 },
 "nbformat": 4,
 "nbformat_minor": 5
}
